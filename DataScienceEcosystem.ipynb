{
 "cells": [
  {
   "cell_type": "markdown",
   "id": "32c15dbb-0664-40ee-9aae-3b3d88da05c8",
   "metadata": {},
   "source": [
    "# Data Science Tools and Ecosystem"
   ]
  },
  {
   "cell_type": "markdown",
   "id": "0e6f68a9-64c1-4bc4-b592-66c36cd98ace",
   "metadata": {},
   "source": [
    "In this notebook, Data Science Tools and Ecosystem are summarized"
   ]
  },
  {
   "cell_type": "markdown",
   "id": "c9a022f2-d17b-47fc-955d-13d79497a1ce",
   "metadata": {},
   "source": [
    "Objectives:\n",
    "* List popular langugaes for Data Science\n",
    "* List commonly used libraries used by Data Scientists\n",
    "* Demonstrate how to evalute arithmetic expressions in Python"
   ]
  },
  {
   "cell_type": "markdown",
   "id": "65db66f1-cd9d-43f7-86da-15187ba878c9",
   "metadata": {},
   "source": [
    "## Some of the Popular languages that Data Scientists use are:\n",
    "1. Python\n",
    "2. SQL\n",
    "3. Julia\n",
    "4. R\n",
    "5. Scala"
   ]
  },
  {
   "cell_type": "markdown",
   "id": "efba7025-588e-4acf-a740-9d374d5d79e8",
   "metadata": {},
   "source": [
    "## Some of the commonly used libraries used by Data Scientists include:\n",
    "1. Scikit Learn\n",
    "2. Numpy\n",
    "3. Pandas"
   ]
  },
  {
   "cell_type": "markdown",
   "id": "a1512fde-792f-4e9f-a1d2-38e7f1b4e5c7",
   "metadata": {},
   "source": [
    "\n",
    "|Data Science Tools|\n",
    "|------------------|\n",
    "|Jupyter|\n",
    "|Google Colab|\n",
    "|VS Code|"
   ]
  },
  {
   "cell_type": "markdown",
   "id": "e3fd8263-1285-4094-9539-f9c8ab18747b",
   "metadata": {},
   "source": [
    "### Below are a few examples of evaluating arithmetic expressions in Python."
   ]
  },
  {
   "cell_type": "code",
   "execution_count": 2,
   "id": "9c64d7e6-f91e-4c67-b709-dd7125c59e31",
   "metadata": {},
   "outputs": [
    {
     "data": {
      "text/plain": [
       "17"
      ]
     },
     "execution_count": 2,
     "metadata": {},
     "output_type": "execute_result"
    }
   ],
   "source": [
    "# This a simple arithmetic expression to multiply then add integers.\n",
    "(3*4)+5"
   ]
  },
  {
   "cell_type": "code",
   "execution_count": 3,
   "id": "a33807b2-e91a-43f9-bc20-9aea9dddcb6d",
   "metadata": {},
   "outputs": [
    {
     "data": {
      "text/plain": [
       "3.3333333333333335"
      ]
     },
     "execution_count": 3,
     "metadata": {},
     "output_type": "execute_result"
    }
   ],
   "source": [
    "# This will convert 200 minutes to hours by dividing by 60\n",
    "200/60"
   ]
  },
  {
   "cell_type": "markdown",
   "id": "875c3047-63aa-4049-9b84-b19e0dfbcd67",
   "metadata": {},
   "source": [
    "## Author\n",
    "Antonio Ricardo"
   ]
  },
  {
   "cell_type": "code",
   "execution_count": null,
   "id": "3628ec10-6878-410c-96e3-6393f6842f44",
   "metadata": {},
   "outputs": [],
   "source": []
  }
 ],
 "metadata": {
  "kernelspec": {
   "display_name": "Python 3 (ipykernel)",
   "language": "python",
   "name": "python3"
  },
  "language_info": {
   "codemirror_mode": {
    "name": "ipython",
    "version": 3
   },
   "file_extension": ".py",
   "mimetype": "text/x-python",
   "name": "python",
   "nbconvert_exporter": "python",
   "pygments_lexer": "ipython3",
   "version": "3.10.9"
  }
 },
 "nbformat": 4,
 "nbformat_minor": 5
}
